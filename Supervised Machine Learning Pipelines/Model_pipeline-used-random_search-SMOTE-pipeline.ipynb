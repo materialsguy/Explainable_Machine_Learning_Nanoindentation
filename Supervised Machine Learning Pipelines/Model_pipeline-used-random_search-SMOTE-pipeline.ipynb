{
 "cells": [
  {
   "cell_type": "code",
   "execution_count": 1,
   "id": "42893685-52c2-4bbf-90c3-0e8ecb11ff5f",
   "metadata": {},
   "outputs": [],
   "source": [
    "## Note that for the KNN another pipeline was used. Therefore it is not part of the code anymore. The plots are still in the original format"
   ]
  },
  {
   "cell_type": "code",
   "execution_count": 2,
   "id": "3808ae79",
   "metadata": {},
   "outputs": [],
   "source": [
    "import pandas as pd\n",
    "import random\n",
    "import numpy as np\n",
    "\n",
    "from sklearn.model_selection import StratifiedKFold, RandomizedSearchCV\n",
    "from sklearn.ensemble import RandomForestClassifier\n",
    "from sklearn.neighbors import KNeighborsClassifier\n",
    "from sklearn.preprocessing import StandardScaler\n",
    "from sklearn.metrics import f1_score, accuracy_score, make_scorer, confusion_matrix\n",
    "from sklearn.utils.class_weight import compute_class_weight\n",
    "\n",
    "from imblearn.over_sampling import SMOTE\n",
    "from imblearn.pipeline import Pipeline \n",
    "\n",
    "from xgboost import XGBClassifier\n",
    "\n",
    "import matplotlib.pyplot as plt\n",
    "import seaborn as sns"
   ]
  },
  {
   "cell_type": "code",
   "execution_count": 3,
   "id": "e95236d6",
   "metadata": {},
   "outputs": [],
   "source": [
    "random.seed(42)"
   ]
  },
  {
   "cell_type": "code",
   "execution_count": 4,
   "id": "fce65529",
   "metadata": {},
   "outputs": [],
   "source": [
    "PATH=r\"D:\\Dokumente\\General_Data\\other_people\\Hard_Metalls\\240422-new_data\\worked_data\\Paper\\Data_Sets\\\\\""
   ]
  },
  {
   "cell_type": "code",
   "execution_count": 5,
   "id": "6b7a218b",
   "metadata": {},
   "outputs": [],
   "source": [
    "X_train_df=pd.read_csv(f\"{PATH}X_train_240722.csv\")\n",
    "y_train=pd.read_csv(f\"{PATH}y_train_240722.csv\").Y"
   ]
  },
  {
   "cell_type": "code",
   "execution_count": 6,
   "id": "3b9991c4-b6fd-4785-b668-4dd25166e7d0",
   "metadata": {},
   "outputs": [],
   "source": [
    "X_val_df = pd.read_csv(f\"{PATH}X_val_240722.csv\")\n",
    "y_val = pd.read_csv(f\"{PATH}y_val_240722.csv\")"
   ]
  },
  {
   "cell_type": "code",
   "execution_count": 7,
   "id": "c08d8928-859e-43e4-adbc-71cb24722f77",
   "metadata": {},
   "outputs": [],
   "source": [
    "features_trost =  ['slope_0.2',  'norm_slope_0.2',  'curvature','curvature_linear', 'curvature_shift', 'norm_curvature','norm_curvature_linear', 'norm_curvature_shift', 'work_total','work_elastic', 'work_plastic', 'work_ratio', 'h_ratio']\n",
    "features_others = ['Er(GPa)', 'H(GPa)']\n",
    "all_features = features_trost.copy()\n",
    "all_features.extend(features_others)"
   ]
  },
  {
   "cell_type": "code",
   "execution_count": 8,
   "id": "24e72905",
   "metadata": {},
   "outputs": [],
   "source": [
    "feature_sets = [features_trost, features_others, all_features]"
   ]
  },
  {
   "cell_type": "code",
   "execution_count": 9,
   "id": "c5217cae",
   "metadata": {},
   "outputs": [],
   "source": [
    "random_forest = {\n",
    "\"name\": \"RFC\",\n",
    "\"classifier\": RandomForestClassifier(),\n",
    "\"param_distributions\": {\n",
    "'model__max_depth': [3,  5,  7,  9, 11, 13, 15, 20, 30, 40],\n",
    "'model__max_features': ['sqrt', \"log2\"],\n",
    "'model__min_samples_leaf': [1, 2, 4],\n",
    "'model__min_samples_split': [2, 5, 10],\n",
    "'model__n_estimators': [50, 100, 200, 300, 400, 500,600,]},\n",
    "\"smote\": False}"
   ]
  },
  {
   "cell_type": "code",
   "execution_count": 10,
   "id": "a6b848a5",
   "metadata": {},
   "outputs": [],
   "source": [
    "xgb = {\n",
    "\"name\": \"XGB\",\n",
    "\"classifier\": XGBClassifier(objective='multi:softmax'),  # Specify multiclass classification with softmax loss\n",
    "\"param_distributions\": {\n",
    "'model__n_estimators': [50, 100, 200, 300],\n",
    "'model__learning_rate': [0.01, 0.05, 0.1],\n",
    "'model__max_depth': [3,  5,  7,  9, 11, 13, 15],  \n",
    "'model__subsample': [0.8, 0.9, 1.0],  # Consider reducing overfitting for small datasets\n",
    "  }, \n",
    "'smote': False\n",
    "}"
   ]
  },
  {
   "cell_type": "code",
   "execution_count": 11,
   "id": "04ecc31b",
   "metadata": {},
   "outputs": [],
   "source": [
    "knn = {\n",
    "\"name\": \"KNN\",\n",
    "\"classifier\" : KNeighborsClassifier(),\n",
    "\"param_distributions\": {\n",
    "'model__n_neighbors': range(1,20),\n",
    "'model__weights': ['uniform', 'distance'],\n",
    "'model__algorithm' : [\"auto\"],\n",
    "'model__leaf_size': [10, 15, 30, 45]},\n",
    "\"smote\": False}"
   ]
  },
  {
   "cell_type": "code",
   "execution_count": 12,
   "id": "811f6611",
   "metadata": {},
   "outputs": [],
   "source": [
    "models = [random_forest, xgb]"
   ]
  },
  {
   "cell_type": "code",
   "execution_count": 13,
   "id": "481f21f5",
   "metadata": {},
   "outputs": [],
   "source": [
    "scoring = {\n",
    "    'f1_macro': make_scorer(f1_score, average='macro'),\n",
    "    'f1_weighted': make_scorer(f1_score, average='weighted'),\n",
    "    'f1_micro': make_scorer(f1_score, average='micro'),\n",
    "    'accuracy': make_scorer(accuracy_score)}"
   ]
  },
  {
   "cell_type": "code",
   "execution_count": 14,
   "id": "1299fa5f",
   "metadata": {},
   "outputs": [],
   "source": [
    "results = pd.DataFrame()"
   ]
  },
  {
   "cell_type": "code",
   "execution_count": 15,
   "id": "9a3564b1",
   "metadata": {},
   "outputs": [],
   "source": [
    "cv = StratifiedKFold(n_splits = 4)"
   ]
  },
  {
   "cell_type": "code",
   "execution_count": 18,
   "id": "fe27dbdb-cc06-4600-b573-58fa61161f9c",
   "metadata": {},
   "outputs": [],
   "source": [
    "X_val_scaled=scaler.transform(X_val_df[all_features])\n",
    "X_val_scaled =pd.DataFrame(X_val_scaled, columns=all_features)"
   ]
  },
  {
   "cell_type": "code",
   "execution_count": 19,
   "id": "2b09bccd",
   "metadata": {},
   "outputs": [
    {
     "name": "stdout",
     "output_type": "stream",
     "text": [
      "RFC\n",
      "['slope_0.2', 'norm_slope_0.2', 'curvature', 'curvature_linear', 'curvature_shift', 'norm_curvature', 'norm_curvature_linear', 'norm_curvature_shift', 'work_total', 'work_elastic', 'work_plastic', 'work_ratio', 'h_ratio']\n",
      "scaled features used\n",
      "RFC\n",
      "['Er(GPa)', 'H(GPa)']\n",
      "scaled features used\n",
      "RFC\n",
      "['slope_0.2', 'norm_slope_0.2', 'curvature', 'curvature_linear', 'curvature_shift', 'norm_curvature', 'norm_curvature_linear', 'norm_curvature_shift', 'work_total', 'work_elastic', 'work_plastic', 'work_ratio', 'h_ratio', 'Er(GPa)', 'H(GPa)']\n",
      "scaled features used\n",
      "KNN\n",
      "['slope_0.2', 'norm_slope_0.2', 'curvature', 'curvature_linear', 'curvature_shift', 'norm_curvature', 'norm_curvature_linear', 'norm_curvature_shift', 'work_total', 'work_elastic', 'work_plastic', 'work_ratio', 'h_ratio']\n",
      "scaled features used\n",
      "KNN\n",
      "['Er(GPa)', 'H(GPa)']\n",
      "scaled features used\n",
      "KNN\n",
      "['slope_0.2', 'norm_slope_0.2', 'curvature', 'curvature_linear', 'curvature_shift', 'norm_curvature', 'norm_curvature_linear', 'norm_curvature_shift', 'work_total', 'work_elastic', 'work_plastic', 'work_ratio', 'h_ratio', 'Er(GPa)', 'H(GPa)']\n",
      "scaled features used\n",
      "XGB\n",
      "['slope_0.2', 'norm_slope_0.2', 'curvature', 'curvature_linear', 'curvature_shift', 'norm_curvature', 'norm_curvature_linear', 'norm_curvature_shift', 'work_total', 'work_elastic', 'work_plastic', 'work_ratio', 'h_ratio']\n",
      "scaled features used\n",
      "XGB\n",
      "['Er(GPa)', 'H(GPa)']\n",
      "scaled features used\n",
      "XGB\n",
      "['slope_0.2', 'norm_slope_0.2', 'curvature', 'curvature_linear', 'curvature_shift', 'norm_curvature', 'norm_curvature_linear', 'norm_curvature_shift', 'work_total', 'work_elastic', 'work_plastic', 'work_ratio', 'h_ratio', 'Er(GPa)', 'H(GPa)']\n",
      "scaled features used\n"
     ]
    }
   ],
   "source": [
    "for model in models:\n",
    "    for features in feature_sets:\n",
    "        estimator = model[\"classifier\"]\n",
    "        print(model[\"name\"])\n",
    "        print(features)\n",
    "\n",
    "        X = X_train_df[features]\n",
    "        y = y_train\n",
    "        print(f\"scaled features used\")\n",
    "\n",
    "        pipe = Pipeline([(\"scale\", StandardScaler()),\n",
    "                         (\"smote\", SMOTE(random_state=42)),                         \n",
    "                         (\"model\", estimator)\n",
    "                        ])\n",
    "       \n",
    "        param_distributions = model[\"param_distributions\"]\n",
    "        random_search = RandomizedSearchCV(estimator=pipe,\n",
    "                                       param_distributions=param_distributions,\n",
    "                                    scoring=scoring,\n",
    "                                       n_jobs=-1,\n",
    "                                       cv=cv, n_iter=50, refit='f1_macro')\n",
    "        \n",
    "        random_search.fit(X, y)\n",
    "        current_data = pd.DataFrame(random_search.cv_results_)\n",
    "        current_data[\"model\"] = [model[\"name\"]]*len(current_data)\n",
    "        current_data[\"smote\"] = [model[\"smote\"]]*len(current_data)\n",
    "        current_data[\"features\"] = [features]*len(current_data)\n",
    "        current_data[\"num_features\"] = [len(features)]*len(current_data)\n",
    "        results = pd.concat([results, current_data])\n",
    "        results = results.reset_index(drop=True)"
   ]
  },
  {
   "cell_type": "code",
   "execution_count": 20,
   "id": "6d4be582-5449-44db-9807-bcff31a76bf9",
   "metadata": {},
   "outputs": [],
   "source": []
  },
  {
   "cell_type": "code",
   "execution_count": 21,
   "id": "a1473151-9ecc-4ada-ae01-496db3bde1d9",
   "metadata": {},
   "outputs": [
    {
     "data": {
      "text/plain": [
       "array(['XGB'], dtype=object)"
      ]
     },
     "execution_count": 21,
     "metadata": {},
     "output_type": "execute_result"
    }
   ],
   "source": [
    "current_data.model.unique()"
   ]
  },
  {
   "cell_type": "code",
   "execution_count": 22,
   "id": "79e9a70f-d248-49e5-8ca6-d5ca49386e37",
   "metadata": {},
   "outputs": [
    {
     "data": {
      "image/png": "[encoded data removed]",
      "text/plain": [
       "<Figure size 640x480 with 1 Axes>"
      ]
     },
     "metadata": {},
     "output_type": "display_data"
    }
   ],
   "source": [
    "for model in results.model.unique():\n",
    "    plot_data = results[results.model==model]\n",
    "    plt.plot(plot_data.mean_test_f1_weighted, plot_data.mean_test_f1_macro, 'x', label=model)\n",
    "    plt.legend()"
   ]
  },
  {
   "cell_type": "code",
   "execution_count": 23,
   "id": "a64e3e14-498f-478f-bc2c-1bbd2ac41f1c",
   "metadata": {},
   "outputs": [
    {
     "data": {
      "image/png": "[encoded data removed]",
      "text/plain": [
       "<Figure size 640x480 with 1 Axes>"
      ]
     },
     "metadata": {},
     "output_type": "display_data"
    }
   ],
   "source": [
    "for model in results.num_features.unique():\n",
    "    plot_data = results[results.num_features==model]\n",
    "    plt.plot(plot_data.mean_test_f1_weighted, plot_data.mean_test_f1_macro, 'x', label=model)\n",
    "    plt.legend()"
   ]
  },
  {
   "cell_type": "code",
   "execution_count": 24,
   "id": "a5c024a7-8c7c-4de2-abae-d1946bbee7a2",
   "metadata": {},
   "outputs": [],
   "source": [
    "choosen_current_model = results[results.mean_test_f1_macro > results.mean_test_f1_macro.max()*0.99].sort_values(by = [\"mean_test_f1_weighted\"])"
   ]
  },
  {
   "cell_type": "code",
   "execution_count": 25,
   "id": "be365f7b-c819-4535-9e45-b56ac253c545",
   "metadata": {},
   "outputs": [
    {
     "data": {
      "text/html": [
       "<div>\n",
       "<style scoped>\n",
       "    .dataframe tbody tr th:only-of-type {\n",
       "        vertical-align: middle;\n",
       "    }\n",
       "\n",
       "    .dataframe tbody tr th {\n",
       "        vertical-align: top;\n",
       "    }\n",
       "\n",
       "    .dataframe thead th {\n",
       "        text-align: right;\n",
       "    }\n",
       "</style>\n",
       "<table border=\"1\" class=\"dataframe\">\n",
       "  <thead>\n",
       "    <tr style=\"text-align: right;\">\n",
       "      <th></th>\n",
       "      <th>mean_test_f1_macro</th>\n",
       "      <th>mean_test_f1_weighted</th>\n",
       "      <th>params</th>\n",
       "      <th>features</th>\n",
       "    </tr>\n",
       "  </thead>\n",
       "  <tbody>\n",
       "    <tr>\n",
       "      <th>146</th>\n",
       "      <td>0.513019</td>\n",
       "      <td>0.749045</td>\n",
       "      <td>{'model__n_estimators': 500, 'model__min_sampl...</td>\n",
       "      <td>[slope_0.2, norm_slope_0.2, curvature, curvatu...</td>\n",
       "    </tr>\n",
       "    <tr>\n",
       "      <th>28</th>\n",
       "      <td>0.512981</td>\n",
       "      <td>0.750414</td>\n",
       "      <td>{'model__n_estimators': 500, 'model__min_sampl...</td>\n",
       "      <td>[slope_0.2, norm_slope_0.2, curvature, curvatu...</td>\n",
       "    </tr>\n",
       "    <tr>\n",
       "      <th>104</th>\n",
       "      <td>0.513144</td>\n",
       "      <td>0.757679</td>\n",
       "      <td>{'model__n_estimators': 500, 'model__min_sampl...</td>\n",
       "      <td>[slope_0.2, norm_slope_0.2, curvature, curvatu...</td>\n",
       "    </tr>\n",
       "    <tr>\n",
       "      <th>132</th>\n",
       "      <td>0.514239</td>\n",
       "      <td>0.759144</td>\n",
       "      <td>{'model__n_estimators': 400, 'model__min_sampl...</td>\n",
       "      <td>[slope_0.2, norm_slope_0.2, curvature, curvatu...</td>\n",
       "    </tr>\n",
       "    <tr>\n",
       "      <th>113</th>\n",
       "      <td>0.514312</td>\n",
       "      <td>0.759221</td>\n",
       "      <td>{'model__n_estimators': 500, 'model__min_sampl...</td>\n",
       "      <td>[slope_0.2, norm_slope_0.2, curvature, curvatu...</td>\n",
       "    </tr>\n",
       "    <tr>\n",
       "      <th>143</th>\n",
       "      <td>0.514353</td>\n",
       "      <td>0.759430</td>\n",
       "      <td>{'model__n_estimators': 600, 'model__min_sampl...</td>\n",
       "      <td>[slope_0.2, norm_slope_0.2, curvature, curvatu...</td>\n",
       "    </tr>\n",
       "    <tr>\n",
       "      <th>129</th>\n",
       "      <td>0.512891</td>\n",
       "      <td>0.759961</td>\n",
       "      <td>{'model__n_estimators': 50, 'model__min_sample...</td>\n",
       "      <td>[slope_0.2, norm_slope_0.2, curvature, curvatu...</td>\n",
       "    </tr>\n",
       "    <tr>\n",
       "      <th>139</th>\n",
       "      <td>0.513469</td>\n",
       "      <td>0.760749</td>\n",
       "      <td>{'model__n_estimators': 200, 'model__min_sampl...</td>\n",
       "      <td>[slope_0.2, norm_slope_0.2, curvature, curvatu...</td>\n",
       "    </tr>\n",
       "    <tr>\n",
       "      <th>446</th>\n",
       "      <td>0.514404</td>\n",
       "      <td>0.760927</td>\n",
       "      <td>{'model__subsample': 0.9, 'model__n_estimators...</td>\n",
       "      <td>[slope_0.2, norm_slope_0.2, curvature, curvatu...</td>\n",
       "    </tr>\n",
       "    <tr>\n",
       "      <th>138</th>\n",
       "      <td>0.513845</td>\n",
       "      <td>0.761215</td>\n",
       "      <td>{'model__n_estimators': 600, 'model__min_sampl...</td>\n",
       "      <td>[slope_0.2, norm_slope_0.2, curvature, curvatu...</td>\n",
       "    </tr>\n",
       "    <tr>\n",
       "      <th>140</th>\n",
       "      <td>0.513705</td>\n",
       "      <td>0.761992</td>\n",
       "      <td>{'model__n_estimators': 400, 'model__min_sampl...</td>\n",
       "      <td>[slope_0.2, norm_slope_0.2, curvature, curvatu...</td>\n",
       "    </tr>\n",
       "    <tr>\n",
       "      <th>149</th>\n",
       "      <td>0.514366</td>\n",
       "      <td>0.762015</td>\n",
       "      <td>{'model__n_estimators': 100, 'model__min_sampl...</td>\n",
       "      <td>[slope_0.2, norm_slope_0.2, curvature, curvatu...</td>\n",
       "    </tr>\n",
       "    <tr>\n",
       "      <th>34</th>\n",
       "      <td>0.513689</td>\n",
       "      <td>0.762582</td>\n",
       "      <td>{'model__n_estimators': 500, 'model__min_sampl...</td>\n",
       "      <td>[slope_0.2, norm_slope_0.2, curvature, curvatu...</td>\n",
       "    </tr>\n",
       "    <tr>\n",
       "      <th>7</th>\n",
       "      <td>0.513200</td>\n",
       "      <td>0.762727</td>\n",
       "      <td>{'model__n_estimators': 600, 'model__min_sampl...</td>\n",
       "      <td>[slope_0.2, norm_slope_0.2, curvature, curvatu...</td>\n",
       "    </tr>\n",
       "    <tr>\n",
       "      <th>141</th>\n",
       "      <td>0.517516</td>\n",
       "      <td>0.763211</td>\n",
       "      <td>{'model__n_estimators': 500, 'model__min_sampl...</td>\n",
       "      <td>[slope_0.2, norm_slope_0.2, curvature, curvatu...</td>\n",
       "    </tr>\n",
       "  </tbody>\n",
       "</table>\n",
       "</div>"
      ],
      "text/plain": [
       "     mean_test_f1_macro  mean_test_f1_weighted  \\\n",
       "146            0.513019               0.749045   \n",
       "28             0.512981               0.750414   \n",
       "104            0.513144               0.757679   \n",
       "132            0.514239               0.759144   \n",
       "113            0.514312               0.759221   \n",
       "143            0.514353               0.759430   \n",
       "129            0.512891               0.759961   \n",
       "139            0.513469               0.760749   \n",
       "446            0.514404               0.760927   \n",
       "138            0.513845               0.761215   \n",
       "140            0.513705               0.761992   \n",
       "149            0.514366               0.762015   \n",
       "34             0.513689               0.762582   \n",
       "7              0.513200               0.762727   \n",
       "141            0.517516               0.763211   \n",
       "\n",
       "                                                params  \\\n",
       "146  {'model__n_estimators': 500, 'model__min_sampl...   \n",
       "28   {'model__n_estimators': 500, 'model__min_sampl...   \n",
       "104  {'model__n_estimators': 500, 'model__min_sampl...   \n",
       "132  {'model__n_estimators': 400, 'model__min_sampl...   \n",
       "113  {'model__n_estimators': 500, 'model__min_sampl...   \n",
       "143  {'model__n_estimators': 600, 'model__min_sampl...   \n",
       "129  {'model__n_estimators': 50, 'model__min_sample...   \n",
       "139  {'model__n_estimators': 200, 'model__min_sampl...   \n",
       "446  {'model__subsample': 0.9, 'model__n_estimators...   \n",
       "138  {'model__n_estimators': 600, 'model__min_sampl...   \n",
       "140  {'model__n_estimators': 400, 'model__min_sampl...   \n",
       "149  {'model__n_estimators': 100, 'model__min_sampl...   \n",
       "34   {'model__n_estimators': 500, 'model__min_sampl...   \n",
       "7    {'model__n_estimators': 600, 'model__min_sampl...   \n",
       "141  {'model__n_estimators': 500, 'model__min_sampl...   \n",
       "\n",
       "                                              features  \n",
       "146  [slope_0.2, norm_slope_0.2, curvature, curvatu...  \n",
       "28   [slope_0.2, norm_slope_0.2, curvature, curvatu...  \n",
       "104  [slope_0.2, norm_slope_0.2, curvature, curvatu...  \n",
       "132  [slope_0.2, norm_slope_0.2, curvature, curvatu...  \n",
       "113  [slope_0.2, norm_slope_0.2, curvature, curvatu...  \n",
       "143  [slope_0.2, norm_slope_0.2, curvature, curvatu...  \n",
       "129  [slope_0.2, norm_slope_0.2, curvature, curvatu...  \n",
       "139  [slope_0.2, norm_slope_0.2, curvature, curvatu...  \n",
       "446  [slope_0.2, norm_slope_0.2, curvature, curvatu...  \n",
       "138  [slope_0.2, norm_slope_0.2, curvature, curvatu...  \n",
       "140  [slope_0.2, norm_slope_0.2, curvature, curvatu...  \n",
       "149  [slope_0.2, norm_slope_0.2, curvature, curvatu...  \n",
       "34   [slope_0.2, norm_slope_0.2, curvature, curvatu...  \n",
       "7    [slope_0.2, norm_slope_0.2, curvature, curvatu...  \n",
       "141  [slope_0.2, norm_slope_0.2, curvature, curvatu...  "
      ]
     },
     "execution_count": 25,
     "metadata": {},
     "output_type": "execute_result"
    }
   ],
   "source": [
    "choosen_current_model[[\"mean_test_f1_macro\", \"mean_test_f1_weighted\", \"params\", \"features\"]]"
   ]
  },
  {
   "cell_type": "code",
   "execution_count": 26,
   "id": "769f9fbb-f708-4423-b8cb-017f24e2b43a",
   "metadata": {},
   "outputs": [],
   "source": [
    "#results.to_pickle(\"pipeline_random_search_PCA_SMOTE.pkl\")"
   ]
  },
  {
   "cell_type": "code",
   "execution_count": 60,
   "id": "80c7e573-e7d2-4161-8c42-e7fda0ccad34",
   "metadata": {},
   "outputs": [],
   "source": [
    "model_used=choosen_current_model.model.iloc[-1]"
   ]
  },
  {
   "cell_type": "code",
   "execution_count": 78,
   "id": "c74e0264-5852-4c59-b575-50017716c3f0",
   "metadata": {},
   "outputs": [],
   "source": [
    "params = choosen_current_model.params.iloc[-1]"
   ]
  },
  {
   "cell_type": "code",
   "execution_count": 79,
   "id": "a88b66f5-3beb-4791-90b8-23e3e3e0e47d",
   "metadata": {},
   "outputs": [],
   "source": [
    "params = {key.replace('model__', ''): value for key, value in params.items()}"
   ]
  },
  {
   "cell_type": "code",
   "execution_count": 81,
   "id": "66a821ac-18c0-4952-8a69-a9a4021e1e9f",
   "metadata": {},
   "outputs": [],
   "source": [
    "if model_used ==\"RFC\":\n",
    "    model=RandomForestClassifier(**params),\n",
    "elif model_used == \"XGB\": \n",
    "    model= XGBClassifier(objective='multi:softmax', **params)\n",
    "elif model_used == \"KNN\":\n",
    "    model = KNeighborsClassifier(**params)"
   ]
  },
  {
   "cell_type": "code",
   "execution_count": 83,
   "id": "47e96119-a494-4685-a219-3548a9f3ea92",
   "metadata": {},
   "outputs": [],
   "source": [
    "features = choosen_current_model.features.iloc[-1]"
   ]
  },
  {
   "cell_type": "code",
   "execution_count": 91,
   "id": "87bf6235-6e5b-4b87-bb76-f893906d1124",
   "metadata": {},
   "outputs": [],
   "source": [
    "pipe = Pipeline([(\"scale\", StandardScaler()),\n",
    "                (\"smote\", SMOTE(random_state=42)),                         \n",
    "                (\"model\", model[0])\n",
    "                        ])"
   ]
  },
  {
   "cell_type": "code",
   "execution_count": 92,
   "id": "32d6d3f0-1836-4043-8c18-72c4b8412b4c",
   "metadata": {},
   "outputs": [],
   "source": [
    "estimator = pipe.fit(X_train_df[features], y_train)"
   ]
  },
  {
   "cell_type": "code",
   "execution_count": 94,
   "id": "09397ec6-4dc4-42dc-83dc-b6a29a720f7c",
   "metadata": {},
   "outputs": [],
   "source": [
    "y_pred = estimator.predict(X_val_df[features])"
   ]
  },
  {
   "cell_type": "code",
   "execution_count": 95,
   "id": "46e9ea9d-53c1-4103-ad60-c8502bffa225",
   "metadata": {},
   "outputs": [
    {
     "data": {
      "text/plain": [
       "0.5199925420975055"
      ]
     },
     "execution_count": 95,
     "metadata": {},
     "output_type": "execute_result"
    }
   ],
   "source": [
    "f1_score(y_val.Y, y_pred, average='macro')"
   ]
  },
  {
   "cell_type": "code",
   "execution_count": 96,
   "id": "a81dee09-4167-4929-9d53-6c8da7187991",
   "metadata": {},
   "outputs": [
    {
     "data": {
      "text/plain": [
       "0.7693609307402706"
      ]
     },
     "execution_count": 96,
     "metadata": {},
     "output_type": "execute_result"
    }
   ],
   "source": [
    "f1_score(y_val.Y, y_pred, average='weighted')"
   ]
  },
  {
   "cell_type": "code",
   "execution_count": 97,
   "id": "c3681509-f13e-4c0d-a705-b89d2f5b9eb5",
   "metadata": {},
   "outputs": [
    {
     "data": {
      "text/plain": [
       "<Axes: >"
      ]
     },
     "execution_count": 97,
     "metadata": {},
     "output_type": "execute_result"
    },
    {
     "data": {
      "image/png": "[encoded data removed]",
      "text/plain": [
       "<Figure size 640x480 with 2 Axes>"
      ]
     },
     "metadata": {},
     "output_type": "display_data"
    }
   ],
   "source": [
    "cm = confusion_matrix(y_val.Y, y_pred)\n",
    "labels= {\n",
    "    'matrix': 0,\n",
    "    'mc-matrix': 1,\n",
    "    'm6c-matrix': 2,\n",
    "    'mc': 3,\n",
    "    'm6c': 4,}\n",
    "sns.heatmap(cm, annot=True,xticklabels=labels, yticklabels=labels)"
   ]
  },
  {
   "cell_type": "code",
   "execution_count": 99,
   "id": "53cfaf46-05a2-46bb-a825-326a2461becf",
   "metadata": {},
   "outputs": [],
   "source": [
    "results.to_pickle(\"pipeline_random_search_SMOTE_used_240822.pkl\")"
   ]
  },
  {
   "cell_type": "code",
   "execution_count": null,
   "id": "69bbf9c9-ff50-41c5-8e48-8be1998f6e5b",
   "metadata": {},
   "outputs": [],
   "source": []
  }
 ],
 "metadata": {
  "kernelspec": {
   "display_name": "Python 3 (ipykernel)",
   "language": "python",
   "name": "python3"
  },
  "language_info": {
   "codemirror_mode": {
    "name": "ipython",
    "version": 3
   },
   "file_extension": ".py",
   "mimetype": "text/x-python",
   "name": "python",
   "nbconvert_exporter": "python",
   "pygments_lexer": "ipython3",
   "version": "3.11.9"
  }
 },
 "nbformat": 4,
 "nbformat_minor": 5
}
